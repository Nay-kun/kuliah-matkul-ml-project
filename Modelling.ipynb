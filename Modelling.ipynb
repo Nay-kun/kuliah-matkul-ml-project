{
 "cells": [
  {
   "cell_type": "code",
   "execution_count": 4,
   "metadata": {},
   "outputs": [],
   "source": [
    "import pandas as pd\n",
    "import numpy as np\n",
    "\n",
    "# Load the data\n",
    "filenames = [\n",
    "    \"non_outliers_eps_0.1_min_samples_3.csv\",\n",
    "    \"non_outliers_eps_0.1_min_samples_5.csv\",\n",
    "    \"non_outliers_eps_0.1_min_samples_10.csv\",\n",
    "    \"non_outliers_eps_0.5_min_samples_3.csv\",\n",
    "    \"non_outliers_eps_0.5_min_samples_5.csv\",\n",
    "    \"non_outliers_eps_0.5_min_samples_10.csv\",\n",
    "    \"non_outliers_eps_1.0_min_samples_3.csv\",\n",
    "    \"non_outliers_eps_1.0_min_samples_5.csv\",\n",
    "    \"non_outliers_eps_1.0_min_samples_10.csv\",\n",
    "]\n",
    "\n",
    "# read dataframe one by one\n",
    "data_1 = pd.read_csv(filenames[0])\n",
    "data_2 = pd.read_csv(filenames[1])\n",
    "data_3 = pd.read_csv(filenames[2])\n",
    "data_4 = pd.read_csv(filenames[3])\n",
    "data_5 = pd.read_csv(filenames[4])\n",
    "data_6 = pd.read_csv(filenames[5])\n",
    "data_7 = pd.read_csv(filenames[6])\n",
    "data_8 = pd.read_csv(filenames[7])\n",
    "data_9 = pd.read_csv(filenames[8])"
   ]
  },
  {
   "cell_type": "markdown",
   "metadata": {},
   "source": [
    "# Modelling (Decision Tree)"
   ]
  },
  {
   "cell_type": "code",
   "execution_count": null,
   "metadata": {},
   "outputs": [],
   "source": [
    "import pandas as pd\n",
    "from sklearn.ensemble import RandomForestClassifier\n",
    "from sklearn.model_selection import train_test_split, GridSearchCV\n",
    "from sklearn.metrics import accuracy_score\n",
    "\n",
    "# Assuming you have defined filenames containing paths to your CSV files\n",
    "\n",
    "# List to store the trained models\n",
    "models = []\n",
    "\n",
    "# Define parameter grid for the random forest\n",
    "param_grid = {\n",
    "    'n_estimators': [50, 100, 200],\n",
    "    'max_depth': [None, 10, 20, 30],\n",
    "    'min_samples_split': [2, 5, 10],\n",
    "    'min_samples_leaf': [1, 2, 4],\n",
    "    'bootstrap': [True, False]\n",
    "}\n",
    "\n",
    "# Loop through each dataframe\n",
    "for i, filename in enumerate(filenames):\n",
    "    # Read the dataframe\n",
    "    data = pd.read_csv(filename)\n",
    "    \n",
    "    # Assuming your target variable is in a column named 'target'\n",
    "    X = data.drop(columns=['target'])\n",
    "    y = data['target']\n",
    "    \n",
    "    # Split data into train and test sets\n",
    "    X_train, X_test, y_train, y_test = train_test_split(X, y, test_size=0.2, random_state=42)\n",
    "    \n",
    "    # Initialize random forest classifier\n",
    "    rf_classifier = RandomForestClassifier(random_state=42)\n",
    "    \n",
    "    # Initialize GridSearchCV\n",
    "    grid_search = GridSearchCV(estimator=rf_classifier, param_grid=param_grid, cv=5, scoring='accuracy', n_jobs=-1)\n",
    "    \n",
    "    # Perform GridSearchCV\n",
    "    grid_search.fit(X_train, y_train)\n",
    "    \n",
    "    # Get the best model\n",
    "    best_rf_model = grid_search.best_estimator_\n",
    "    \n",
    "    # Evaluate the model\n",
    "    y_pred = best_rf_model.predict(X_test)\n",
    "    accuracy = accuracy_score(y_test, y_pred)\n",
    "    print(f\"Model {i+1} Accuracy: {accuracy}\")\n",
    "    \n",
    "    # Store the trained model\n",
    "    models.append(best_rf_model)\n"
   ]
  }
 ],
 "metadata": {
  "kernelspec": {
   "display_name": "base",
   "language": "python",
   "name": "python3"
  },
  "language_info": {
   "codemirror_mode": {
    "name": "ipython",
    "version": 3
   },
   "file_extension": ".py",
   "mimetype": "text/x-python",
   "name": "python",
   "nbconvert_exporter": "python",
   "pygments_lexer": "ipython3",
   "version": "3.11.5"
  }
 },
 "nbformat": 4,
 "nbformat_minor": 2
}

{
 "cells": [
  {
   "cell_type": "code",
   "execution_count": 4,
   "metadata": {},
   "outputs": [],
   "source": [
    "import pandas as pd\n",
    "import numpy as np\n",
    "\n",
    "# Load the data\n",
    "filenames = [\n",
    "    \"non_outliers_eps_0.1_min_samples_3.csv\",\n",
    "    \"non_outliers_eps_0.1_min_samples_5.csv\",\n",
    "    \"non_outliers_eps_0.1_min_samples_10.csv\",\n",
    "    \"non_outliers_eps_0.5_min_samples_3.csv\",\n",
    "    \"non_outliers_eps_0.5_min_samples_5.csv\",\n",
    "    \"non_outliers_eps_0.5_min_samples_10.csv\",\n",
    "    \"non_outliers_eps_1.0_min_samples_3.csv\",\n",
    "    \"non_outliers_eps_1.0_min_samples_5.csv\",\n",
    "    \"non_outliers_eps_1.0_min_samples_10.csv\",\n",
    "]\n",
    "\n",
    "# read dataframe one by one\n",
    "data_1 = pd.read_csv(filenames[0])\n",
    "data_2 = pd.read_csv(filenames[1])\n",
    "data_3 = pd.read_csv(filenames[2])\n",
    "data_4 = pd.read_csv(filenames[3])\n",
    "data_5 = pd.read_csv(filenames[4])\n",
    "data_6 = pd.read_csv(filenames[5])\n",
    "data_7 = pd.read_csv(filenames[6])\n",
    "data_8 = pd.read_csv(filenames[7])\n",
    "data_9 = pd.read_csv(filenames[8])"
   ]
  },
  {
   "cell_type": "markdown",
   "metadata": {},
   "source": [
    "# Modelling (Decision Tree)"
   ]
  },
  {
   "cell_type": "code",
   "execution_count": null,
   "metadata": {},
   "outputs": [],
   "source": []
  }
 ],
 "metadata": {
  "kernelspec": {
   "display_name": "base",
   "language": "python",
   "name": "python3"
  },
  "language_info": {
   "codemirror_mode": {
    "name": "ipython",
    "version": 3
   },
   "file_extension": ".py",
   "mimetype": "text/x-python",
   "name": "python",
   "nbconvert_exporter": "python",
   "pygments_lexer": "ipython3",
   "version": "3.11.5"
  }
 },
 "nbformat": 4,
 "nbformat_minor": 2
}
